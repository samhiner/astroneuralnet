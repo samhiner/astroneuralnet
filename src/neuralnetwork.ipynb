{
 "cells": [
  {
   "cell_type": "code",
   "execution_count": 1,
   "metadata": {},
   "outputs": [],
   "source": [
    "import numpy as np\n",
    "import pandas as pd\n",
    "from PIL import Image"
   ]
  },
  {
   "cell_type": "code",
   "execution_count": 2,
   "metadata": {},
   "outputs": [],
   "source": [
    "#get a list of all of the OBJIDs in the database\n",
    "zoo_data = pd.read_csv('../data/zoodata.csv', sep=',', header=0)\n",
    "raw_filenames = list(zoo_data.loc[:,'OBJID'])\n",
    "\n",
    "#split up list of OBJIDs into 14 sublists (each sublist is a list of what images should be loaded into the memory at a specific time)\n",
    "#so the [0] will be loaded into mem and evaled by the NN, then [1] and so on so there's not too much in the RAM at once.\n",
    "filenames = []\n",
    "for x in range(0,13):\n",
    "    filenames.append(raw_filenames[50000 * x : 50000 * (x + 1)])\n",
    "filenames.append(raw_filenames[(50000 * 13):])\n",
    "\n",
    "#trying the preserve as much memory as possible, so I am unsetting unused variables\n",
    "zoo_data = None\n",
    "raw_filenames = None"
   ]
  },
  {
   "cell_type": "code",
   "execution_count": null,
   "metadata": {},
   "outputs": [],
   "source": [
    "#convert an image to greyscale array of pixels\n",
    "def get_img(file)\n",
    "    im = Image.open('../data/images/' + str(file) + '.jpg').convert('LA')\n",
    "    objArr = np.array(im.getdata())\n",
    "    im.close()\n",
    "    objArr = objArr[:,0] / 255\n",
    "    return objArr"
   ]
  },
  {
   "cell_type": "code",
   "execution_count": null,
   "metadata": {},
   "outputs": [],
   "source": [
    "neural_net = None #TODO set up the neural network here"
   ]
  },
  {
   "cell_type": "code",
   "execution_count": null,
   "metadata": {},
   "outputs": [],
   "source": [
    "for img_names in filenames:\n",
    "    px_lists = []\n",
    "    for img in img_names:\n",
    "        px_lists.append(get_img(img))\n",
    "        \n",
    "    #train_nn(px_lists, whatever, dontforgetvaldata)\n",
    "    #TODO: get class list for each img for y value of nn\n",
    "    \n",
    "test_nn(test_data, whatever)\n",
    "#TODO: reserve validation/test data"
   ]
  },
  {
   "cell_type": "code",
   "execution_count": null,
   "metadata": {},
   "outputs": [],
   "source": [
    "#TODO: maybe some more testing ability?"
   ]
  }
 ],
 "metadata": {
  "kernelspec": {
   "display_name": "Python 3",
   "language": "python",
   "name": "python3"
  },
  "language_info": {
   "codemirror_mode": {
    "name": "ipython",
    "version": 3
   },
   "file_extension": ".py",
   "mimetype": "text/x-python",
   "name": "python",
   "nbconvert_exporter": "python",
   "pygments_lexer": "ipython3",
   "version": "3.6.6"
  }
 },
 "nbformat": 4,
 "nbformat_minor": 2
}
