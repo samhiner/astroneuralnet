{
 "cells": [
  {
   "cell_type": "code",
   "execution_count": 1,
   "metadata": {},
   "outputs": [],
   "source": [
    "import numpy as np\n",
    "import pandas as pd\n",
    "from PIL import Image"
   ]
  },
  {
   "cell_type": "code",
   "execution_count": 2,
   "metadata": {},
   "outputs": [
    {
     "data": {
      "text/plain": [
       "array([[5.88017993e+17, 7.84313725e-03, 7.84313725e-03, ...,\n",
       "        4.31372549e-02, 2.35294118e-02, 1.56862745e-02],\n",
       "       [5.88018056e+17, 1.17647059e-02, 3.92156863e-03, ...,\n",
       "        1.17647059e-02, 1.17647059e-02, 1.17647059e-02],\n",
       "       [5.87745403e+17, 4.31372549e-02, 3.13725490e-02, ...,\n",
       "        0.00000000e+00, 0.00000000e+00, 0.00000000e+00],\n",
       "       ...,\n",
       "       [5.87729233e+17, 3.92156863e-03, 0.00000000e+00, ...,\n",
       "        1.56862745e-02, 1.96078431e-02, 1.96078431e-02],\n",
       "       [5.87742775e+17, 5.09803922e-02, 3.52941176e-02, ...,\n",
       "        7.84313725e-03, 7.84313725e-03, 1.17647059e-02],\n",
       "       [5.87741723e+17, 1.56862745e-02, 3.92156863e-03, ...,\n",
       "        1.96078431e-02, 1.17647059e-02, 7.84313725e-03]])"
      ]
     },
     "execution_count": 2,
     "metadata": {},
     "output_type": "execute_result"
    }
   ],
   "source": [
    "h = np.load('../data/imagelist0.npy')\n",
    "h"
   ]
  },
  {
   "cell_type": "code",
   "execution_count": null,
   "metadata": {},
   "outputs": [],
   "source": [
    "neural_net = None #TODO set up the neural network here"
   ]
  },
  {
   "cell_type": "code",
   "execution_count": null,
   "metadata": {},
   "outputs": [],
   "source": [
    "#TODO: reserve validation/test data"
   ]
  },
  {
   "cell_type": "code",
   "execution_count": null,
   "metadata": {},
   "outputs": [],
   "source": [
    "#TODO: maybe some more testing ability?"
   ]
  },
  {
   "cell_type": "code",
   "execution_count": null,
   "metadata": {},
   "outputs": [],
   "source": [
    "#TODO: option to save file"
   ]
  }
 ],
 "metadata": {
  "kernelspec": {
   "display_name": "Python 3",
   "language": "python",
   "name": "python3"
  },
  "language_info": {
   "codemirror_mode": {
    "name": "ipython",
    "version": 3
   },
   "file_extension": ".py",
   "mimetype": "text/x-python",
   "name": "python",
   "nbconvert_exporter": "python",
   "pygments_lexer": "ipython3",
   "version": "3.6.6"
  }
 },
 "nbformat": 4,
 "nbformat_minor": 2
}
